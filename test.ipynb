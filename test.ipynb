{
 "cells": [
  {
   "cell_type": "code",
   "execution_count": 2,
   "metadata": {},
   "outputs": [
    {
     "data": {
      "text/plain": [
       "True"
      ]
     },
     "execution_count": 2,
     "metadata": {},
     "output_type": "execute_result"
    }
   ],
   "source": [
    "import os\n",
    "from dotenv import load_dotenv,find_dotenv\n",
    "load_dotenv(find_dotenv())"
   ]
  },
  {
   "cell_type": "code",
   "execution_count": 3,
   "metadata": {},
   "outputs": [
    {
     "data": {
      "text/plain": [
       "'\\n\\nLarge language models are neural networks that learn to predict the next word in a sentence based on the preceding context.'"
      ]
     },
     "execution_count": 3,
     "metadata": {},
     "output_type": "execute_result"
    }
   ],
   "source": [
    "from langchain.llms import OpenAI\n",
    "\n",
    "llm = OpenAI(model_name='text-davinci-003')\n",
    "\n",
    "llm('explain large language models in one sentence.')"
   ]
  },
  {
   "cell_type": "code",
   "execution_count": 4,
   "metadata": {},
   "outputs": [],
   "source": [
    "from langchain.schema import (\n",
    "    AIMessage,\n",
    "    HumanMessage,\n",
    "    SystemMessage\n",
    ")\n",
    "from langchain.chat_models import ChatOpenAI\n"
   ]
  },
  {
   "cell_type": "code",
   "execution_count": 5,
   "metadata": {},
   "outputs": [],
   "source": [
    "chat = ChatOpenAI(model_name=\"gpt-3.5-turbo\", temperature=0.3)\n",
    "messages = [\n",
    "    SystemMessage(content=\"You are an expert data scientist.\"),\n",
    "    HumanMessage(content=\"Write a Python script that trains a neural network on the MNIST dataset.\")\n",
    "]\n",
    "resp = chat(messages)"
   ]
  },
  {
   "cell_type": "code",
   "execution_count": 6,
   "metadata": {},
   "outputs": [
    {
     "data": {
      "text/plain": [
       "\"Sure, here's a Python script that trains a neural network on the MNIST dataset using Keras:\\n\\n```python\\nimport tensorflow as tf\\nfrom tensorflow import keras\\nfrom tensorflow.keras.datasets import mnist\\n\\n# Load the MNIST dataset\\n(x_train, y_train), (x_test, y_test) = mnist.load_data()\\n\\n# Normalize the pixel values to be between 0 and 1\\nx_train = x_train / 255.0\\nx_test = x_test / 255.0\\n\\n# Define the model architecture\\nmodel = keras.Sequential([\\n    keras.layers.Flatten(input_shape=(28, 28)),\\n    keras.layers.Dense(128, activation='relu'),\\n    keras.layers.Dense(10, activation='softmax')\\n])\\n\\n# Compile the model\\nmodel.compile(optimizer='adam',\\n              loss='sparse_categorical_crossentropy',\\n              metrics=['accuracy'])\\n\\n# Train the model\\nmodel.fit(x_train, y_train, epochs=5)\\n\\n# Evaluate the model on the test set\\ntest_loss, test_acc = model.evaluate(x_test, y_test)\\nprint('Test accuracy:', test_acc)\\n```\\n\\nThis script loads the MNIST dataset using Keras, normalizes the pixel values, defines a simple neural network architecture with two dense layers, compiles the model with the Adam optimizer and sparse categorical crossentropy loss, trains the model for 5 epochs, and evaluates the model on the test set.\""
      ]
     },
     "execution_count": 6,
     "metadata": {},
     "output_type": "execute_result"
    }
   ],
   "source": [
    "resp.content"
   ]
  }
 ],
 "metadata": {
  "kernelspec": {
   "display_name": "Python 3",
   "language": "python",
   "name": "python3"
  },
  "language_info": {
   "codemirror_mode": {
    "name": "ipython",
    "version": 3
   },
   "file_extension": ".py",
   "mimetype": "text/x-python",
   "name": "python",
   "nbconvert_exporter": "python",
   "pygments_lexer": "ipython3",
   "version": "3.10.6"
  },
  "orig_nbformat": 4
 },
 "nbformat": 4,
 "nbformat_minor": 2
}
